{
 "cells": [
  {
   "cell_type": "code",
   "execution_count": 1,
   "id": "f83826e9",
   "metadata": {},
   "outputs": [],
   "source": [
    "import os\n",
    "import logging\n",
    "import pandas as pd\n",
    "\n",
    "# Setup logging\n",
    "if not os.path.exists(\"logs\"):\n",
    "    os.makedirs(\"logs\")\n",
    "logging.basicConfig(\n",
    "    filename='logs/pipeline.log',\n",
    "    level=logging.INFO,\n",
    "    format='%(asctime)s - %(levelname)s - %(message)s'\n",
    ")"
   ]
  },
  {
   "cell_type": "code",
   "execution_count": null,
   "id": "f5d00098",
   "metadata": {},
   "outputs": [],
   "source": []
  },
  {
   "cell_type": "code",
   "execution_count": 2,
   "id": "ae4d9db3",
   "metadata": {},
   "outputs": [],
   "source": [
    "logging.info(\"Creating object for DPDClass\")\n",
    "# Import the DPDClass module\n",
    "import DPDClass\n",
    "dpd = DPDClass.DPDClass()"
   ]
  },
  {
   "cell_type": "markdown",
   "id": "2eaf8925",
   "metadata": {},
   "source": [
    "1. Data Ingestion and Validation: "
   ]
  },
  {
   "cell_type": "code",
   "execution_count": 3,
   "id": "dd55b09c",
   "metadata": {},
   "outputs": [
    {
     "name": "stdout",
     "output_type": "stream",
     "text": [
      "<class 'pandas.core.frame.DataFrame'>\n",
      "RangeIndex: 500 entries, 0 to 499\n",
      "Data columns (total 8 columns):\n",
      " #   Column          Non-Null Count  Dtype  \n",
      "---  ------          --------------  -----  \n",
      " 0   call_id         500 non-null    object \n",
      " 1   agent_id        500 non-null    object \n",
      " 2   org_id          500 non-null    object \n",
      " 3   installment_id  500 non-null    object \n",
      " 4   status          500 non-null    object \n",
      " 5   duration        500 non-null    float64\n",
      " 6   created_ts      500 non-null    object \n",
      " 7   call_date       500 non-null    object \n",
      "dtypes: float64(1), object(7)\n",
      "memory usage: 31.4+ KB\n"
     ]
    }
   ],
   "source": [
    "#For the file call_logs.csv\n",
    "\n",
    "call_logs = dpd.ingest_validate_data(\n",
    "    data_path=\"datas/call_logs.csv\",\n",
    "    primary_key_cols=['agent_id', 'org_id', 'call_date']\n",
    ")\n",
    "call_logs.info()"
   ]
  },
  {
   "cell_type": "code",
   "execution_count": 4,
   "id": "e712b84b",
   "metadata": {},
   "outputs": [
    {
     "name": "stdout",
     "output_type": "stream",
     "text": [
      "<class 'pandas.core.frame.DataFrame'>\n",
      "RangeIndex: 20 entries, 0 to 19\n",
      "Data columns (total 5 columns):\n",
      " #   Column                 Non-Null Count  Dtype \n",
      "---  ------                 --------------  ----- \n",
      " 0   agent_id               20 non-null     object\n",
      " 1   users_first_name       20 non-null     object\n",
      " 2   users_last_name        20 non-null     object\n",
      " 3   users_office_location  20 non-null     object\n",
      " 4   org_id                 20 non-null     object\n",
      "dtypes: object(5)\n",
      "memory usage: 932.0+ bytes\n"
     ]
    }
   ],
   "source": [
    "#For the file agent_roster.csv\n",
    "\n",
    "agent_roster = dpd.ingest_validate_data(\n",
    "    data_path=\"datas/agent_roster.csv\",\n",
    "    primary_key_cols=['agent_id', 'org_id']\n",
    ")\n",
    "agent_roster.info()\n"
   ]
  },
  {
   "cell_type": "code",
   "execution_count": 5,
   "id": "de808ec6",
   "metadata": {},
   "outputs": [
    {
     "name": "stdout",
     "output_type": "stream",
     "text": [
      "<class 'pandas.core.frame.DataFrame'>\n",
      "RangeIndex: 20 entries, 0 to 19\n",
      "Data columns (total 4 columns):\n",
      " #   Column      Non-Null Count  Dtype \n",
      "---  ------      --------------  ----- \n",
      " 0   agent_id    20 non-null     object\n",
      " 1   org_id      20 non-null     object\n",
      " 2   call_date   20 non-null     object\n",
      " 3   login_time  17 non-null     object\n",
      "dtypes: object(4)\n",
      "memory usage: 772.0+ bytes\n"
     ]
    }
   ],
   "source": [
    "#For the file disposition_summary.csv\n",
    "\n",
    "disposition_summary = dpd.ingest_validate_data(\n",
    "    data_path=\"datas/disposition_summary.csv\",\n",
    "    primary_key_cols=['agent_id', 'org_id', 'call_date']\n",
    ")\n",
    "disposition_summary.info()"
   ]
  },
  {
   "cell_type": "markdown",
   "id": "59a9ba36",
   "metadata": {},
   "source": [
    "2. Join Logics"
   ]
  },
  {
   "cell_type": "code",
   "execution_count": 6,
   "id": "e8b99ea5",
   "metadata": {},
   "outputs": [
    {
     "name": "stdout",
     "output_type": "stream",
     "text": [
      "<class 'pandas.core.frame.DataFrame'>\n",
      "RangeIndex: 500 entries, 0 to 499\n",
      "Data columns (total 12 columns):\n",
      " #   Column                 Non-Null Count  Dtype  \n",
      "---  ------                 --------------  -----  \n",
      " 0   call_id                500 non-null    object \n",
      " 1   agent_id               500 non-null    object \n",
      " 2   org_id                 500 non-null    object \n",
      " 3   installment_id         500 non-null    object \n",
      " 4   status                 500 non-null    object \n",
      " 5   duration               500 non-null    float64\n",
      " 6   created_ts             500 non-null    object \n",
      " 7   call_date              500 non-null    object \n",
      " 8   users_first_name       500 non-null    object \n",
      " 9   users_last_name        500 non-null    object \n",
      " 10  users_office_location  500 non-null    object \n",
      " 11  login_time             416 non-null    object \n",
      "dtypes: float64(1), object(11)\n",
      "memory usage: 47.0+ KB\n"
     ]
    }
   ],
   "source": [
    "#Merging/joining the dataframes\n",
    "\n",
    "logging.info(\"Merging dataframes call_logs, agent_roster\")\n",
    "merged_data = dpd.merge_dataframes(call_logs,agent_roster,on_cols=['agent_id', 'org_id'], mtype='left')\n",
    "\n",
    "logging.info(\"Merging dataframes previously merged with disposition_summary\")\n",
    "merged_data = dpd.merge_dataframes(merged_data,disposition_summary,on_cols=['agent_id', 'org_id', 'call_date'], mtype='left')\n",
    "merged_data.info()"
   ]
  },
  {
   "cell_type": "markdown",
   "id": "0caec160",
   "metadata": {},
   "source": [
    "3. Feature Engineering:"
   ]
  },
  {
   "cell_type": "code",
   "execution_count": 7,
   "id": "0db66075",
   "metadata": {},
   "outputs": [
    {
     "name": "stdout",
     "output_type": "stream",
     "text": [
      "<class 'pandas.core.frame.DataFrame'>\n",
      "RangeIndex: 20 entries, 0 to 19\n",
      "Data columns (total 10 columns):\n",
      " #   Column            Non-Null Count  Dtype  \n",
      "---  ------            --------------  -----  \n",
      " 0   agent_id          20 non-null     object \n",
      " 1   users_first_name  20 non-null     object \n",
      " 2   users_last_name   20 non-null     object \n",
      " 3   call_date         20 non-null     object \n",
      " 4   total_calls       20 non-null     int64  \n",
      " 5   unique_loans      20 non-null     int64  \n",
      " 6   completed_calls   20 non-null     int64  \n",
      " 7   avg_duration_min  20 non-null     float64\n",
      " 8   presence          20 non-null     int32  \n",
      " 9   connect_rate      20 non-null     float64\n",
      "dtypes: float64(2), int32(1), int64(3), object(4)\n",
      "memory usage: 1.6+ KB\n",
      "None\n"
     ]
    },
    {
     "data": {
      "text/html": [
       "<div>\n",
       "<style scoped>\n",
       "    .dataframe tbody tr th:only-of-type {\n",
       "        vertical-align: middle;\n",
       "    }\n",
       "\n",
       "    .dataframe tbody tr th {\n",
       "        vertical-align: top;\n",
       "    }\n",
       "\n",
       "    .dataframe thead th {\n",
       "        text-align: right;\n",
       "    }\n",
       "</style>\n",
       "<table border=\"1\" class=\"dataframe\">\n",
       "  <thead>\n",
       "    <tr style=\"text-align: right;\">\n",
       "      <th></th>\n",
       "      <th>agent_id</th>\n",
       "      <th>users_first_name</th>\n",
       "      <th>users_last_name</th>\n",
       "      <th>call_date</th>\n",
       "      <th>total_calls</th>\n",
       "      <th>unique_loans</th>\n",
       "      <th>completed_calls</th>\n",
       "      <th>avg_duration_min</th>\n",
       "      <th>presence</th>\n",
       "      <th>connect_rate</th>\n",
       "    </tr>\n",
       "  </thead>\n",
       "  <tbody>\n",
       "    <tr>\n",
       "      <th>0</th>\n",
       "      <td>A001</td>\n",
       "      <td>AgentFirst1</td>\n",
       "      <td>AgentLast1</td>\n",
       "      <td>2025-04-28</td>\n",
       "      <td>20</td>\n",
       "      <td>20</td>\n",
       "      <td>2</td>\n",
       "      <td>0.11</td>\n",
       "      <td>1</td>\n",
       "      <td>0.10</td>\n",
       "    </tr>\n",
       "    <tr>\n",
       "      <th>1</th>\n",
       "      <td>A002</td>\n",
       "      <td>AgentFirst2</td>\n",
       "      <td>AgentLast2</td>\n",
       "      <td>2025-04-28</td>\n",
       "      <td>23</td>\n",
       "      <td>23</td>\n",
       "      <td>3</td>\n",
       "      <td>0.13</td>\n",
       "      <td>1</td>\n",
       "      <td>0.13</td>\n",
       "    </tr>\n",
       "    <tr>\n",
       "      <th>2</th>\n",
       "      <td>A003</td>\n",
       "      <td>AgentFirst3</td>\n",
       "      <td>AgentLast3</td>\n",
       "      <td>2025-04-28</td>\n",
       "      <td>21</td>\n",
       "      <td>21</td>\n",
       "      <td>8</td>\n",
       "      <td>0.12</td>\n",
       "      <td>1</td>\n",
       "      <td>0.38</td>\n",
       "    </tr>\n",
       "    <tr>\n",
       "      <th>3</th>\n",
       "      <td>A004</td>\n",
       "      <td>AgentFirst4</td>\n",
       "      <td>AgentLast4</td>\n",
       "      <td>2025-04-28</td>\n",
       "      <td>27</td>\n",
       "      <td>27</td>\n",
       "      <td>4</td>\n",
       "      <td>0.13</td>\n",
       "      <td>1</td>\n",
       "      <td>0.15</td>\n",
       "    </tr>\n",
       "    <tr>\n",
       "      <th>4</th>\n",
       "      <td>A005</td>\n",
       "      <td>AgentFirst5</td>\n",
       "      <td>AgentLast5</td>\n",
       "      <td>2025-04-28</td>\n",
       "      <td>29</td>\n",
       "      <td>28</td>\n",
       "      <td>4</td>\n",
       "      <td>0.12</td>\n",
       "      <td>0</td>\n",
       "      <td>0.14</td>\n",
       "    </tr>\n",
       "  </tbody>\n",
       "</table>\n",
       "</div>"
      ],
      "text/plain": [
       "  agent_id users_first_name users_last_name   call_date  total_calls  \\\n",
       "0     A001      AgentFirst1      AgentLast1  2025-04-28           20   \n",
       "1     A002      AgentFirst2      AgentLast2  2025-04-28           23   \n",
       "2     A003      AgentFirst3      AgentLast3  2025-04-28           21   \n",
       "3     A004      AgentFirst4      AgentLast4  2025-04-28           27   \n",
       "4     A005      AgentFirst5      AgentLast5  2025-04-28           29   \n",
       "\n",
       "   unique_loans  completed_calls  avg_duration_min  presence  connect_rate  \n",
       "0            20                2              0.11         1          0.10  \n",
       "1            23                3              0.13         1          0.13  \n",
       "2            21                8              0.12         1          0.38  \n",
       "3            27                4              0.13         1          0.15  \n",
       "4            28                4              0.12         0          0.14  "
      ]
     },
     "execution_count": 7,
     "metadata": {},
     "output_type": "execute_result"
    }
   ],
   "source": [
    "#Calculating the agent performance summary\n",
    "\n",
    "agent_performance_summary = dpd.feature_engg(merged_data)\n",
    "print(agent_performance_summary.info())\n",
    "agent_performance_summary.head()"
   ]
  },
  {
   "cell_type": "markdown",
   "id": "a3598b60",
   "metadata": {},
   "source": [
    "4. Output"
   ]
  },
  {
   "cell_type": "code",
   "execution_count": 8,
   "id": "1e3ef082",
   "metadata": {},
   "outputs": [],
   "source": [
    "#Saving the final dataframe to a CSV file\n",
    "\n",
    "if not os.path.exists(\"result\"):\n",
    "    os.makedirs(\"result\")\n",
    "agent_performance_summary.to_csv('result/agent_performance_summary.csv', index=False)\n",
    "logging.info(f\"Saved csv report to 'result/agent_performance_summary.csv'\")"
   ]
  },
  {
   "cell_type": "code",
   "execution_count": 12,
   "id": "249d8b83",
   "metadata": {},
   "outputs": [
    {
     "name": "stdout",
     "output_type": "stream",
     "text": [
      "Agent Summary for 2025-04-28\n",
      "Top Performer AgentFirst3 AgentLast3 (38% connect rate)\n",
      "Total Active Agents: 17\n",
      "Average Duration: 0.12\n"
     ]
    }
   ],
   "source": [
    "#Getting the slack summary message\n",
    "\n",
    "summary_message = dpd.slack_summary_message(agent_performance_summary, agent_performance_summary['call_date'].max())\n",
    "print(summary_message)"
   ]
  },
  {
   "cell_type": "code",
   "execution_count": null,
   "id": "521f25dc",
   "metadata": {},
   "outputs": [],
   "source": []
  }
 ],
 "metadata": {
  "kernelspec": {
   "display_name": "Python 3",
   "language": "python",
   "name": "python3"
  },
  "language_info": {
   "codemirror_mode": {
    "name": "ipython",
    "version": 3
   },
   "file_extension": ".py",
   "mimetype": "text/x-python",
   "name": "python",
   "nbconvert_exporter": "python",
   "pygments_lexer": "ipython3",
   "version": "3.11.9"
  }
 },
 "nbformat": 4,
 "nbformat_minor": 5
}
